{
  "cells": [
    {
      "cell_type": "markdown",
      "metadata": {
        "id": "njbaOrWPNhFi"
      },
      "source": [
        "# <center>VAI Academy</center>\n",
        "# <center> Estatística - Parte 2</center>\n",
        "___\n",
        "Todo o conteúdo que você terá acesso ao longo desse período é confidencial, não sendo possível compartilhar ou comercializar os links ou os materiais recebidos que sejam de propriedade da VAI Academy.\n",
        "\n",
        "Dessa forma, ao participar do curso você está aceitando os termos de confidencialidade e não-comercialização dos conteúdos que serão recebidos.\n",
        "___\n",
        "# <center> Objetivos de aprendizado </center>\n",
        "- Compreender os conceitos básicos de estatística (e.g. média, mediana, variância, desvio padrão, correlação)\n",
        "- Compreender os conceitos básicos de probabilidade e sua relação com a estatística\n",
        "- Formar hipóteses, conhecer e analisar os tipos de erros\n",
        "___\n",
        "\n",
        "## Sumário\n",
        "4. [Estatística descritiva](#descstats)\n",
        "\n",
        "\n",
        "**Os conceitos que você vai aprender nessa aula terão grande utilidade em outras etapas da ciência de dados!**"
      ]
    },
    {
      "cell_type": "code",
      "source": [
        "from google.colab import drive\n",
        "drive.mount('/content/drive')"
      ],
      "metadata": {
        "colab": {
          "base_uri": "https://localhost:8080/"
        },
        "id": "0zwnfxB1GDST",
        "outputId": "c8475e1c-0283-4494-a405-d411709b2866"
      },
      "execution_count": null,
      "outputs": [
        {
          "output_type": "stream",
          "name": "stdout",
          "text": [
            "Drive already mounted at /content/drive; to attempt to forcibly remount, call drive.mount(\"/content/drive\", force_remount=True).\n"
          ]
        }
      ]
    },
    {
      "cell_type": "markdown",
      "metadata": {
        "id": "0Qw9T_d4FYA5"
      },
      "source": [
        "## Carregando Variáveis\n",
        "\n",
        "Para conseguirmos seguir aprendendo os conceitos a partir de onde paramos no notebook anterior, faremos a leitura de um arquivo pickle na célula a seguir. Não se preocupe em entender o significado da célula a seguir nesse momento, entraremos no detalhe do seu funcionamento mais a frente no curso. O arquivo ```var_AMEM00NB02_parte_2.pkl``` deve se encontrar junto com os arquivos de dados desse notebook. Basta colocá-lo na pasta dados e rodar a célula a seguir."
      ]
    },
    {
      "cell_type": "code",
      "execution_count": null,
      "metadata": {
        "id": "DmItR2RoFYA6"
      },
      "outputs": [],
      "source": [
        "import pickle\n",
        "\n",
        "with open(\"/content/drive/MyDrive/Cursos/Ciência de Dados/02 - Alula /dados/var_AMEM00NB02_parte_2.pkl\", \"rb\") as f:\n",
        "    diamond_df = pickle.load(f)"
      ]
    },
    {
      "cell_type": "markdown",
      "metadata": {
        "id": "tEv2kNPaFYA8"
      },
      "source": [
        "## Importando Bibliotecas"
      ]
    },
    {
      "cell_type": "code",
      "execution_count": null,
      "metadata": {
        "id": "dP9C17B2FYA8"
      },
      "outputs": [],
      "source": [
        "import pandas as pd\n",
        "import numpy as np\n",
        "import math\n",
        "import matplotlib.pyplot as plt"
      ]
    },
    {
      "cell_type": "markdown",
      "metadata": {
        "id": "u_5FfITDZhw3"
      },
      "source": [
        "### 4.3. Medidas de posição\n",
        "\n",
        "Geralmente queremos representar um conjunto de dados a partir de apenas alguns valores que sejam representativos do todo. Geralmente usamos as medidas de posição (ou localização) central, que são a média, moda e mediana."
      ]
    },
    {
      "cell_type": "markdown",
      "metadata": {
        "id": "UKXgDd3vaGev"
      },
      "source": [
        "#### 4.3.1. Média\n",
        "A média aritmética simples, ou simplesmente média, é a medida de tendência central mais popular e usada no dia-a-dia. Ela é obtida dividindo-se a soma dos valores pela quantidade de elementos.\n",
        "\n",
        "Em termos matemáticos, calculamos a média como:\n",
        "\\begin{equation*}\n",
        "\\bar{x} = \\frac{1}{N}\\sum\\limits_{k=1}^{N}x_k\n",
        "\\end{equation*}\n",
        "onde $\\bar{x}$ representa a média, $N$ a quantidade de dados e $x_k$ o valor do k-ésimo dado.\n",
        "\n",
        "Como já aprendemos a calcular a média tanto em matrizes numéricas como em um  Pandas df (dataframe), vamos relembrar com um exercício.\n"
      ]
    },
    {
      "cell_type": "markdown",
      "metadata": {
        "id": "27tHXPGGamFH"
      },
      "source": [
        "##### Exercício 4.6\n",
        "Obtenha a média da medida de preço dos diamantes (variável `price`) usando o método  `mean()` das bibliotecas:\n",
        "1. NumPy\n",
        "2. Pandas"
      ]
    },
    {
      "cell_type": "code",
      "execution_count": null,
      "metadata": {
        "exid": "4.6",
        "id": "NbNAj-6qanRe",
        "colab": {
          "base_uri": "https://localhost:8080/"
        },
        "outputId": "2839f95a-ae43-457f-8831-71be0e3dda47"
      },
      "outputs": [
        {
          "output_type": "stream",
          "name": "stdout",
          "text": [
            "Média com Pandas:  3932.799721913237\n",
            "Média com NumPy:  3932.799721913237\n"
          ]
        }
      ],
      "source": [
        "# Escreva sua resposta aqui:\n",
        "pd_mean = pd.DataFrame(diamond_df.price).mean()\n",
        "\n",
        "print(\"Média com Pandas: \", float(pd_mean))\n",
        "\n",
        "price = np.array(diamond_df.price) # Converte um pandas df em um numpy array\n",
        "# Escreva sua resposta aqui:\n",
        "np_mean = np.mean(price)\n",
        "print(\"Média com NumPy: \", float(np_mean))\n"
      ]
    },
    {
      "cell_type": "markdown",
      "metadata": {
        "id": "PnHTJZZLax9-"
      },
      "source": [
        "#### 4.3.2. Mediana\n",
        "A mediana corresponde ao **valor central** de um conjunto de dados que foram previamente ordenados de forma crescente, separando a metade maior e a metade menor desses dados. Se o número de amostras for igual, tomamos a média dos dois valores centrais.\n",
        "\n",
        "<img src=\"https://i.imgur.com/3fEikig.png\" alt=\"as\" width=\"350\" />\n",
        "\n",
        "A vantagem de usar a mediana em relação à média é que a mediana é menos susceptível a mudanças quando existem valores excepcionalmente altos ou baixos dentro de um conjunto de dados. Assim, em análises de dados onde existem muitos valores extremos, como por exemplo renda familiar ou outros ativos voláteis, a média pode ser distorcida por um pequeno número de valores extremamente altos ou baixos, enquanto a mediana pode dar uma ideia melhor de um valor típico do conjunto."
      ]
    },
    {
      "cell_type": "markdown",
      "metadata": {
        "id": "F8UaUzaJbANF"
      },
      "source": [
        "##### Exercício 4.7\n",
        "\n",
        "Complete a função a seguir para calcular a mediana de uma coluna de um DataFrame. Caso tenha dúvidas, veja o exemplo da imagem acima."
      ]
    },
    {
      "cell_type": "code",
      "execution_count": null,
      "metadata": {
        "exid": "4.7",
        "id": "mk_MEoCubEju",
        "colab": {
          "base_uri": "https://localhost:8080/"
        },
        "outputId": "9969fec4-996f-4f40-d368-74573c02cb05"
      },
      "outputs": [
        {
          "output_type": "stream",
          "name": "stdout",
          "text": [
            "Mediana calculada:  2401.0\n",
            "Mediana do Pandas:  2401.0\n",
            "Mediana do Numpy:  2401.0\n"
          ]
        }
      ],
      "source": [
        "def get_median_from_df(df, column_name):\n",
        "    \"\"\"\n",
        "    Calcula a mediana da coluna 'column_name' do dataframe df\n",
        "    Input: dataframe e nome da coluna para a qual deseja-se calcular a mediana\n",
        "    Output: mediana (type: float)\n",
        "    \"\"\"\n",
        "\n",
        "    # Converta os dados para um numpy array\n",
        "    var_array = np.array(df.price)\n",
        "\n",
        "    # Obenha o número de elementos do array\n",
        "    N = len(var_array)\n",
        "\n",
        "    # Ordena o array com o método np.sort()\n",
        "    ord_array = np.sort(var_array)\n",
        "\n",
        "    # Verificando a pariddade do número de elementos\n",
        "    if N % 2 == 1: # Se N for ímpar\n",
        "        median = ord_array[N]\n",
        "    else: # Se N for par, então pega a média dos dois valores centrais\n",
        "        median = sum(ord_array[N//2-1:N//2+1])/2.0\n",
        "\n",
        "    return float(median)\n",
        "\n",
        "\n",
        "# Verifique seus resultados\n",
        "price_50 = get_median_from_df(diamond_df,'price') # Use a função que criamos para calcular a mediana da coluna 'price'\n",
        "print(\"Mediana calculada: \", price_50)\n",
        "print(\"Mediana do Pandas: \", float(diamond_df.price.median()))\n",
        "print(\"Mediana do Numpy: \", float(np.median(diamond_df.price)))"
      ]
    },
    {
      "cell_type": "markdown",
      "metadata": {
        "id": "oFwFh6aubSs-"
      },
      "source": [
        "#### 4.3.3. Moda\n",
        "A moda representa o **valor mais frequente** no conjunto de dados.\n",
        "\n",
        "Diferente da média e da mediana, a moda é especialmente útil em variáveis categóricas, em que a média e a mediana não podem ser definidas. Por exemplo, a moda da amostra\n",
        "\n",
        "`['maçã', 'banana', 'laranja', 'laranja', 'laranja', 'pêssego']` é laranja"
      ]
    },
    {
      "cell_type": "markdown",
      "source": [],
      "metadata": {
        "id": "XpeUdnNt9X7T"
      }
    },
    {
      "cell_type": "markdown",
      "metadata": {
        "id": "jGQ1QVdHbYmI"
      },
      "source": [
        "##### Exercício 4.8\n",
        "Retorne o valor mais comum da variável `color` **usando a tabela de frequências**. Depois, compare seus resultados com a função [`mode()`](https://pandas.pydata.org/docs/reference/api/pandas.DataFrame.mode.html) da biblioteca Pandas."
      ]
    },
    {
      "cell_type": "code",
      "execution_count": null,
      "metadata": {
        "exid": "4.8",
        "id": "cU5rV3DEbaQH",
        "colab": {
          "base_uri": "https://localhost:8080/"
        },
        "outputId": "168aa267-c56f-4fd8-bb2f-f9eff94cfb39"
      },
      "outputs": [
        {
          "output_type": "stream",
          "name": "stdout",
          "text": [
            "color_counts: \n",
            " col_0  color\n",
            "color       \n",
            "D       6775\n",
            "E       9797\n",
            "F       9542\n",
            "G      11292\n",
            "H       8304\n",
            "I       5422\n",
            "J       2808\n"
          ]
        }
      ],
      "source": [
        "# Crie a tabela de frequência\n",
        "color_counts = pd.crosstab(index=diamond_df.color, columns=\"color\")\n",
        "\n",
        "print(\"color_counts: \\n\", color_counts) # Visualizando a tabela de frequências\n",
        "\n",
        "# Ordene pela frequência ('count')\n",
        "#color_counts_ord = color_counts.sort_values(by='count', ascending=True)\n",
        "\n",
        "\n",
        "# Pegando os índices dos valores ordenados por sua frequência\n",
        "#ordered_idx = color_counts_ord.index\n",
        "\n",
        "# Pegue o primeiro ou último elementos da lista, dependendo da forma como você ordenou a lista\n",
        "#mode = _______\n",
        "\n",
        "#print(\"Moda pela tabela de frequências: \", mode)\n",
        "#print(\"Moda pelo Pandas:                \", diamond_df.color.mode())"
      ]
    },
    {
      "cell_type": "markdown",
      "metadata": {
        "id": "9Y5A2QD2bu7v"
      },
      "source": [
        "#### 4.3.4 Comparação entre as medidas\n",
        "Normalmente usamos a média como a única medida de tendência central de um conjunto de dados ou variável. No entanto, quando os dados têm muitos *outliers* (falaremos mais sobre isso mais tarde), valores extremos ou não possuem uma distribuição normal, a média pode não ser a melhor escolha. Abaixo encontra-se um quadro resumindo as vantagens e desvantagens de utilizar cada uma das medidas de tendência central apresentadas.\n",
        "\n",
        "| Medida | Vantagens | Desvantagens |\n",
        "|-|-|-|\n",
        "| Média | Leva em conta todos os valores dos dados | É influenciada por *outliers* |\n",
        "| Mediana  | Menos sensível a *outliers* do que a média | Ordenamento é custoso em grandes quantidades de dados |\n",
        "| Moda    | Adequada para o uso com variáveis categóricas | Não tem nenhuma propriedade matemática útil |"
      ]
    },
    {
      "cell_type": "markdown",
      "metadata": {
        "id": "XJRKjMXqaevn"
      },
      "source": [
        "#### 4.3.5. Percentil/Quartil\n",
        "\n",
        "Um percentil é uma medida utilizada na estatística descritiva que indica **o valor abaixo do qual uma determinada percentagem de observações se situa**. Por exemplo, o 20º percentil é o valor abaixo do qual 20% das amostras presentes no conjunto de dados podem ser encontradas.\n",
        "\n",
        "O **25º percentil é também conhecido como o primeiro quartil ou quartil inferior** ($Q_1$), o **50º percentil como mediana ou segundo quartil** ($Q_2$), e o **75º percentil como terceiro quartil ou quartil superior** ($Q_3$)."
      ]
    },
    {
      "cell_type": "markdown",
      "metadata": {
        "id": "me46gh8xapAn"
      },
      "source": [
        "##### Exercício 4.9\n",
        "Obtenha os quartis da variável `price` usando:\n",
        "\n",
        "1. A função `percentile()` da biblioteca numpy\n",
        "2. A função `quantile()` da biblioteca pandas"
      ]
    },
    {
      "cell_type": "code",
      "execution_count": null,
      "metadata": {
        "exid": "4.9",
        "id": "lBcVsV6Havr-",
        "colab": {
          "base_uri": "https://localhost:8080/"
        },
        "outputId": "0b2dc5a7-7c0b-41ef-ff91-1bc9a7bd4ed6"
      },
      "outputs": [
        {
          "output_type": "stream",
          "name": "stdout",
          "text": [
            "1º quartil - função quantile:    950.0\n",
            "3º quartil - função percentile:  5324.25\n"
          ]
        }
      ],
      "source": [
        "# Escreva sua resposta aqui:\n",
        "inter_q_quant = diamond_df.price.quantile(1/4) # quantile: de 0 a 1\n",
        "print(\"1º quartil - função quantile:   \", inter_q_quant)\n",
        "\n",
        "inter_q_perc = np.percentile(diamond_df.price, 75) # percentile: de 0 a 100 (%)\n",
        "print(\"3º quartil - função percentile: \",inter_q_perc)\n",
        "\n",
        "# Não altere as linhas abaixo\n",
        "# Convertendo formato das variáveis para compatibilidade com a submissão\n",
        "q_quant_1 = float(inter_q_quant)\n",
        "q_perc_3 = float(inter_q_perc)"
      ]
    },
    {
      "cell_type": "markdown",
      "metadata": {
        "id": "9RUJIRCjFslM"
      },
      "source": [
        "##### Exercício 4.10\n",
        "E, por fim, resumindo a variável `price`"
      ]
    },
    {
      "cell_type": "code",
      "execution_count": null,
      "metadata": {
        "exid": "4.10",
        "id": "xns2rhc9FyfW",
        "colab": {
          "base_uri": "https://localhost:8080/"
        },
        "outputId": "442fe151-1744-4a40-e4c5-b419c65526a2"
      },
      "outputs": [
        {
          "output_type": "stream",
          "name": "stdout",
          "text": [
            "Variável PRICE \n",
            "Mínimo:  326.0 \n",
            "1º Quartil:  18823.0 \n",
            "Média 3932.799721913237 \n",
            "Mediana 2401.0 \n",
            "3º Quartil 5324.25 \n",
            "Máximo: 18823.0\n"
          ]
        }
      ],
      "source": [
        "# Mínimo\n",
        "min_price = diamond_df.price.min()\n",
        "# Primeiro quartil\n",
        "quartil_price_1 = diamond_df.price.quantile(1)\n",
        "# Média\n",
        "mean_price = diamond_df.price.mean()\n",
        "# Mediana\n",
        "median_price = diamond_df.price.median()\n",
        "# Terceiro quartil\n",
        "quartil_price_3 =  np.percentile(diamond_df.price, 75)\n",
        "# Máximo\n",
        "max_price = diamond_df.price.max()\n",
        "\n",
        "print(\"Variável PRICE\",\n",
        "      \"\\nMínimo: \", float(min_price),\n",
        "      \"\\n1º Quartil: \", float(quartil_price_1),\n",
        "      \"\\nMédia\", float(mean_price),\n",
        "      \"\\nMediana\", float(median_price),\n",
        "      \"\\n3º Quartil\", float(quartil_price_3),\n",
        "      \"\\nMáximo:\", float(max_price))"
      ]
    },
    {
      "cell_type": "markdown",
      "metadata": {
        "id": "2WbPiTXBb1Fn"
      },
      "source": [
        "### 4.4. Medidas de Dispersão\n",
        "As medidas de dispersão são valores estatísticos que têm como objetivo **determinar o grau de variabilidade dos dados a partir de um conjunto de valores**.\n",
        "\n",
        "Num conjunto de dados, se todas as amostras de uma variável estão próximas, isso indica uma dispersão baixa, e que os diferentes elementos não são muito diferentes com relação a essa variável. Por outro lado, se as observações estão dispersas, isso indica diferenças entre as observações.\n",
        "\n",
        "A utilização das medidas de dispersão em conjunto com as de tendência central (média, mediana, moda) torna a análise de uma amostra mais precisa, e são as propriedados mais usadas. Enquanto as variáveis de tendência ou posição ajudam a encontrar a caracerística homogênea nos dados, as medidas de dispersão são um indicador de como os dados estão espalhados em torno do centro."
      ]
    },
    {
      "cell_type": "markdown",
      "metadata": {
        "id": "s1KmfzkccU2t"
      },
      "source": [
        "#### 4.4.1. Amplitude\n",
        "Uma medida de dispersão bastante intuitiva é a **amplitude dos dados**, definida como a diferença entre os valores máximo e mínimo no *dataset*, ou seja:\n",
        "\n",
        "\\begin{equation*}\n",
        "A = \\max - \\min\n",
        "\\end{equation*}\n",
        "\n",
        "Como essa medida considera apenas dois valores, qualquer que seja o tamanho do conjunto de dados, ela tem propriedades limitadas para descrever a dispersão dos dados."
      ]
    },
    {
      "cell_type": "markdown",
      "metadata": {
        "id": "eHwZhrUTcYVQ"
      },
      "source": [
        "##### Exercício 4.11\n",
        "Determine a amplitude da variável `price` usando as funções  `min()` e `max()` das bibliotecas:\n",
        "1. NumPy\n",
        "2. Pandas"
      ]
    },
    {
      "cell_type": "code",
      "execution_count": null,
      "metadata": {
        "exid": "4.11",
        "id": "HUYXsoK_cZNc",
        "colab": {
          "base_uri": "https://localhost:8080/"
        },
        "outputId": "6f456927-1145-4ba7-cefa-3df502ece1b6"
      },
      "outputs": [
        {
          "output_type": "stream",
          "name": "stdout",
          "text": [
            "Amplitude pelo Numpy 18497\n",
            "Amplitude pelo Pandas 0    18497\n",
            "dtype: int64\n"
          ]
        }
      ],
      "source": [
        "# Escreva sua resposta aqui:\n",
        "price = np.array(diamond_df.price) # Converte um pandas df em um numpy array\n",
        "range_np = np.max(price) - np.min(price)\n",
        "range_pd = pd.DataFrame(price).max() - pd.DataFrame(price).min()\n",
        "print(\"Amplitude pelo Numpy\", range_np)\n",
        "print(\"Amplitude pelo Pandas\",range_pd)\n",
        "\n",
        "# Não altere as linhas abaixo\n",
        "# Convertendo formato das variáveis para compatibilidade com a submissão\n",
        "range_np = float(range_np)\n",
        "range_pd = float(range_pd)"
      ]
    },
    {
      "cell_type": "markdown",
      "metadata": {
        "id": "Hr5Jo36lcco1"
      },
      "source": [
        "<a id='std_form'></a>\n",
        "#### 4.4.2. Variância\n",
        "A variância é determinada pela média dos quadrados dos desvios, onde o desvio é a diferença entre o valor observado e a média da amostra de dados. O cálculo é baseado na seguinte fórmula:\n",
        "\n",
        "\\begin{equation*}\n",
        "s^2 = \\frac{1}{N-1} \\sum\\limits_{k=1}^{N} (x_k - \\bar{x})^2\n",
        "\\end{equation*}\n",
        "\n",
        "Onde\n",
        "* $s^2$: variância\n",
        "* $x_k$: valor observado\n",
        "* $N$: número de elementos no conjunto observado\n",
        "* $\\bar{x}$: média aritimética da amostra"
      ]
    },
    {
      "cell_type": "markdown",
      "metadata": {
        "id": "mYlzIHVlp2Ck"
      },
      "source": [
        "Talvez você esteja se perguntando sobre o $- 1$ do denominador $N - 1$ pois você pode já ter visto essa fórmula sem essa parte, ou não esteja tão claro o que significa! É que, quando estamos fazendo análise em cima de toda a população o denominador fica $N$, mas, quando estamos falando apenas de uma amostra, o denominador ganha esse novo termo, que é chamado de **Correção de Bessel** e serve para reduzir o viés da amostra, aumentando a variância especialmente nos casos em que temos poucos dados!"
      ]
    },
    {
      "cell_type": "markdown",
      "metadata": {
        "id": "JzVSF2xla_IO"
      },
      "source": [
        "#### 4.4.3. Desvio padrão\n",
        "O desvio padrão (em inglês, *standard deviation*) é definido como a raiz quadrada da variância. Desta forma, a unidade de medida do desvio padrão será a mesma que a unidade de medida dos dados, o que não acontece com a variância.\n",
        "\n",
        "\n",
        "Assim, o desvio padrão é encontrado pelo equacionamento:\n",
        "\\begin{equation*}\n",
        "s =  \\sqrt{s^2}\n",
        "\\end{equation*}\n",
        "\n",
        "Quanto mais próximo de 0 é o desvio padrão, menor é a dispersão dos dados. Com isso, quando todos os valores de uma amostra são iguais, o desvio padrão é igual a 0."
      ]
    },
    {
      "cell_type": "markdown",
      "metadata": {
        "id": "I60lWmxmbCLZ"
      },
      "source": [
        "##### Exercício 4.12\n",
        "Preencha o código em branco da função `get_variance_from_df()` e verifique se a variância e o desvio padrão (*std*) correspondem aos retornados pelas funções da biblioteca Pandas."
      ]
    },
    {
      "cell_type": "code",
      "execution_count": null,
      "metadata": {
        "exid": "4.12",
        "id": "wY7Fx5HVbEIm",
        "colab": {
          "base_uri": "https://localhost:8080/"
        },
        "outputId": "081c16f7-e67f-4079-a2fb-7e5438a80e8d"
      },
      "outputs": [
        {
          "output_type": "stream",
          "name": "stdout",
          "text": [
            "Variância calculada:  295.05625440446534\n",
            "Desvio padrão calculado:  17.17720158828164\n",
            "Variância calculada:    295.05625440446534\n",
            "Variância pelo Pandas:  15915629.42430145\n",
            "Desvio padrão calculado:    17.17720158828164\n",
            "Desvio padrão pelo Pandas:  3989.439738146379\n"
          ]
        }
      ],
      "source": [
        "# Escreva sua resposta aqui:\n",
        "def get_variance_from_df(df, column_name):\n",
        "    \"\"\"\n",
        "    Obtem a variância do nome_da_coluna do dataframe df\n",
        "    Input: dataframe e nome da coluna para a qual se deseja calcular a variância\n",
        "    Output: variância (type: float)\n",
        "    \"\"\"\n",
        "\n",
        "    # Converte os dados em um numpy array\n",
        "    var_array = np.array(df[column_name])\n",
        "\n",
        "    # Obtem o número de elementos do array\n",
        "    N = var_array.shape[0] # ou len(var_array)\n",
        "\n",
        "    # Obtem a média dos dados em column_name\n",
        "    mean_array = var_array.mean()\n",
        "\n",
        "    # Escreva sua resposta aqui:\n",
        "    variance = ((var_array - mean_array)**2).mean() / N\n",
        "\n",
        "    return float(variance)\n",
        "\n",
        "\n",
        "def get_std_deviation_from_df(df, column_name):\n",
        "    \"\"\"\n",
        "    Obtem o desvio padrão do nome_da_coluna do dataframe df\n",
        "    Input: dataframe e nome da coluna para a qual se deseja calcular o desvio padrão\n",
        "    Output: desvio padrão (type: float)\n",
        "    \"\"\"\n",
        "\n",
        "    return float(math.sqrt(get_variance_from_df(df, column_name)))\n",
        "\n",
        "\n",
        "variance = get_variance_from_df(diamond_df, 'price')\n",
        "std_deviation = get_std_deviation_from_df(diamond_df, 'price')\n",
        "\n",
        "print(\"Variância calculada: \", variance)\n",
        "print(\"Desvio padrão calculado: \", std_deviation)\n",
        "\n",
        "# Verifique seus resultados\n",
        "print(\"Variância calculada:   \", variance)\n",
        "print(\"Variância pelo Pandas: \", diamond_df.price.std()**2)\n",
        "print(\"Desvio padrão calculado:   \", std_deviation)\n",
        "print(\"Desvio padrão pelo Pandas: \",diamond_df.price.std())"
      ]
    },
    {
      "cell_type": "markdown",
      "metadata": {
        "id": "L0V_UrTlbOKm"
      },
      "source": [
        "#### 4.4.4. Distância Inter-Quartil\n",
        "\n",
        "A amplitude interquartil, intervalo interquartil (IIQ) ou *interquartile range* (IQR) é a diferença entre o primeiro e o terceiro quartil. Desse modo, dentro desta distância interquartil encontra-se 50% dos nossos dados."
      ]
    },
    {
      "cell_type": "markdown",
      "metadata": {
        "id": "n3MZgfYCbYuB"
      },
      "source": [
        "##### Exercício 4.13\n",
        "Obtenha a amplitude interquartil da variável `price` usando:\n",
        "\n",
        "1. A função `percentile()` da biblioteca numpy\n",
        "2. A função `quantile()` da biblioteca pandas"
      ]
    },
    {
      "cell_type": "code",
      "execution_count": null,
      "metadata": {
        "exid": "4.13",
        "id": "N3yiXOzZbaCF",
        "colab": {
          "base_uri": "https://localhost:8080/"
        },
        "outputId": "1d7f9a07-5107-4ab3-ab5d-6ec3b53f3c6d"
      },
      "outputs": [
        {
          "output_type": "stream",
          "name": "stdout",
          "text": [
            "IIQ pela função quantile:    4374.25\n",
            "IIQ pela função percentile:  4374.25\n"
          ]
        }
      ],
      "source": [
        "# Escreva sua resposta aqui:\n",
        "inter_q_quant = diamond_df.price.quantile(3/4) -  diamond_df.price.quantile(1/4) # quantile: de 0 a 1\n",
        "print(\"IIQ pela função quantile:   \", inter_q_quant)\n",
        "\n",
        "inter_q_perc = np.percentile(price, 75) - np.percentile(price, 25) # percentile: de 0 a 100 (%)\n",
        "print(\"IIQ pela função percentile: \",inter_q_perc)\n",
        "\n",
        "# Não altere as linhas abaixo\n",
        "# Convertendo formato das variáveis para compatibilidade com a submissão\n",
        "inter_q_quant_4_13 = float(inter_q_quant)\n",
        "inter_q_perc_4_13 = float(inter_q_perc)"
      ]
    },
    {
      "cell_type": "markdown",
      "metadata": {
        "id": "GzzfPj08bci1"
      },
      "source": [
        "##### Exercício 4.14 (não avaliado)\n",
        "\n",
        "Na aula de Pandas, aprendemos uma função que resume todas as métricas que analisámos anteriormente. Esta função chama-se `describe()`. Experimente-a na célula abaixo.\n"
      ]
    },
    {
      "cell_type": "code",
      "execution_count": null,
      "metadata": {
        "id": "2_o9fQbSNrc2",
        "colab": {
          "base_uri": "https://localhost:8080/",
          "height": 300
        },
        "outputId": "bce4a838-6d3a-4263-982f-2257747b4256"
      },
      "outputs": [
        {
          "output_type": "execute_result",
          "data": {
            "text/plain": [
              "         Unnamed: 0         carat         depth         table         price  \\\n",
              "count  53940.000000  53940.000000  53940.000000  53940.000000  53940.000000   \n",
              "mean   26970.500000      0.797940     61.749405     57.457184   3932.799722   \n",
              "std    15571.281097      0.474011      1.432621      2.234491   3989.439738   \n",
              "min        1.000000      0.200000     43.000000     43.000000    326.000000   \n",
              "25%    13485.750000      0.400000     61.000000     56.000000    950.000000   \n",
              "50%    26970.500000      0.700000     61.800000     57.000000   2401.000000   \n",
              "75%    40455.250000      1.040000     62.500000     59.000000   5324.250000   \n",
              "max    53940.000000      5.010000     79.000000     95.000000  18823.000000   \n",
              "\n",
              "                  x             y             z  \n",
              "count  53940.000000  53940.000000  53940.000000  \n",
              "mean       5.731157      5.734526      3.538734  \n",
              "std        1.121761      1.142135      0.705699  \n",
              "min        0.000000      0.000000      0.000000  \n",
              "25%        4.710000      4.720000      2.910000  \n",
              "50%        5.700000      5.710000      3.530000  \n",
              "75%        6.540000      6.540000      4.040000  \n",
              "max       10.740000     58.900000     31.800000  "
            ],
            "text/html": [
              "\n",
              "  <div id=\"df-cc866510-95a2-4237-82b8-5a9f713fed9a\">\n",
              "    <div class=\"colab-df-container\">\n",
              "      <div>\n",
              "<style scoped>\n",
              "    .dataframe tbody tr th:only-of-type {\n",
              "        vertical-align: middle;\n",
              "    }\n",
              "\n",
              "    .dataframe tbody tr th {\n",
              "        vertical-align: top;\n",
              "    }\n",
              "\n",
              "    .dataframe thead th {\n",
              "        text-align: right;\n",
              "    }\n",
              "</style>\n",
              "<table border=\"1\" class=\"dataframe\">\n",
              "  <thead>\n",
              "    <tr style=\"text-align: right;\">\n",
              "      <th></th>\n",
              "      <th>Unnamed: 0</th>\n",
              "      <th>carat</th>\n",
              "      <th>depth</th>\n",
              "      <th>table</th>\n",
              "      <th>price</th>\n",
              "      <th>x</th>\n",
              "      <th>y</th>\n",
              "      <th>z</th>\n",
              "    </tr>\n",
              "  </thead>\n",
              "  <tbody>\n",
              "    <tr>\n",
              "      <th>count</th>\n",
              "      <td>53940.000000</td>\n",
              "      <td>53940.000000</td>\n",
              "      <td>53940.000000</td>\n",
              "      <td>53940.000000</td>\n",
              "      <td>53940.000000</td>\n",
              "      <td>53940.000000</td>\n",
              "      <td>53940.000000</td>\n",
              "      <td>53940.000000</td>\n",
              "    </tr>\n",
              "    <tr>\n",
              "      <th>mean</th>\n",
              "      <td>26970.500000</td>\n",
              "      <td>0.797940</td>\n",
              "      <td>61.749405</td>\n",
              "      <td>57.457184</td>\n",
              "      <td>3932.799722</td>\n",
              "      <td>5.731157</td>\n",
              "      <td>5.734526</td>\n",
              "      <td>3.538734</td>\n",
              "    </tr>\n",
              "    <tr>\n",
              "      <th>std</th>\n",
              "      <td>15571.281097</td>\n",
              "      <td>0.474011</td>\n",
              "      <td>1.432621</td>\n",
              "      <td>2.234491</td>\n",
              "      <td>3989.439738</td>\n",
              "      <td>1.121761</td>\n",
              "      <td>1.142135</td>\n",
              "      <td>0.705699</td>\n",
              "    </tr>\n",
              "    <tr>\n",
              "      <th>min</th>\n",
              "      <td>1.000000</td>\n",
              "      <td>0.200000</td>\n",
              "      <td>43.000000</td>\n",
              "      <td>43.000000</td>\n",
              "      <td>326.000000</td>\n",
              "      <td>0.000000</td>\n",
              "      <td>0.000000</td>\n",
              "      <td>0.000000</td>\n",
              "    </tr>\n",
              "    <tr>\n",
              "      <th>25%</th>\n",
              "      <td>13485.750000</td>\n",
              "      <td>0.400000</td>\n",
              "      <td>61.000000</td>\n",
              "      <td>56.000000</td>\n",
              "      <td>950.000000</td>\n",
              "      <td>4.710000</td>\n",
              "      <td>4.720000</td>\n",
              "      <td>2.910000</td>\n",
              "    </tr>\n",
              "    <tr>\n",
              "      <th>50%</th>\n",
              "      <td>26970.500000</td>\n",
              "      <td>0.700000</td>\n",
              "      <td>61.800000</td>\n",
              "      <td>57.000000</td>\n",
              "      <td>2401.000000</td>\n",
              "      <td>5.700000</td>\n",
              "      <td>5.710000</td>\n",
              "      <td>3.530000</td>\n",
              "    </tr>\n",
              "    <tr>\n",
              "      <th>75%</th>\n",
              "      <td>40455.250000</td>\n",
              "      <td>1.040000</td>\n",
              "      <td>62.500000</td>\n",
              "      <td>59.000000</td>\n",
              "      <td>5324.250000</td>\n",
              "      <td>6.540000</td>\n",
              "      <td>6.540000</td>\n",
              "      <td>4.040000</td>\n",
              "    </tr>\n",
              "    <tr>\n",
              "      <th>max</th>\n",
              "      <td>53940.000000</td>\n",
              "      <td>5.010000</td>\n",
              "      <td>79.000000</td>\n",
              "      <td>95.000000</td>\n",
              "      <td>18823.000000</td>\n",
              "      <td>10.740000</td>\n",
              "      <td>58.900000</td>\n",
              "      <td>31.800000</td>\n",
              "    </tr>\n",
              "  </tbody>\n",
              "</table>\n",
              "</div>\n",
              "      <button class=\"colab-df-convert\" onclick=\"convertToInteractive('df-cc866510-95a2-4237-82b8-5a9f713fed9a')\"\n",
              "              title=\"Convert this dataframe to an interactive table.\"\n",
              "              style=\"display:none;\">\n",
              "        \n",
              "  <svg xmlns=\"http://www.w3.org/2000/svg\" height=\"24px\"viewBox=\"0 0 24 24\"\n",
              "       width=\"24px\">\n",
              "    <path d=\"M0 0h24v24H0V0z\" fill=\"none\"/>\n",
              "    <path d=\"M18.56 5.44l.94 2.06.94-2.06 2.06-.94-2.06-.94-.94-2.06-.94 2.06-2.06.94zm-11 1L8.5 8.5l.94-2.06 2.06-.94-2.06-.94L8.5 2.5l-.94 2.06-2.06.94zm10 10l.94 2.06.94-2.06 2.06-.94-2.06-.94-.94-2.06-.94 2.06-2.06.94z\"/><path d=\"M17.41 7.96l-1.37-1.37c-.4-.4-.92-.59-1.43-.59-.52 0-1.04.2-1.43.59L10.3 9.45l-7.72 7.72c-.78.78-.78 2.05 0 2.83L4 21.41c.39.39.9.59 1.41.59.51 0 1.02-.2 1.41-.59l7.78-7.78 2.81-2.81c.8-.78.8-2.07 0-2.86zM5.41 20L4 18.59l7.72-7.72 1.47 1.35L5.41 20z\"/>\n",
              "  </svg>\n",
              "      </button>\n",
              "      \n",
              "  <style>\n",
              "    .colab-df-container {\n",
              "      display:flex;\n",
              "      flex-wrap:wrap;\n",
              "      gap: 12px;\n",
              "    }\n",
              "\n",
              "    .colab-df-convert {\n",
              "      background-color: #E8F0FE;\n",
              "      border: none;\n",
              "      border-radius: 50%;\n",
              "      cursor: pointer;\n",
              "      display: none;\n",
              "      fill: #1967D2;\n",
              "      height: 32px;\n",
              "      padding: 0 0 0 0;\n",
              "      width: 32px;\n",
              "    }\n",
              "\n",
              "    .colab-df-convert:hover {\n",
              "      background-color: #E2EBFA;\n",
              "      box-shadow: 0px 1px 2px rgba(60, 64, 67, 0.3), 0px 1px 3px 1px rgba(60, 64, 67, 0.15);\n",
              "      fill: #174EA6;\n",
              "    }\n",
              "\n",
              "    [theme=dark] .colab-df-convert {\n",
              "      background-color: #3B4455;\n",
              "      fill: #D2E3FC;\n",
              "    }\n",
              "\n",
              "    [theme=dark] .colab-df-convert:hover {\n",
              "      background-color: #434B5C;\n",
              "      box-shadow: 0px 1px 3px 1px rgba(0, 0, 0, 0.15);\n",
              "      filter: drop-shadow(0px 1px 2px rgba(0, 0, 0, 0.3));\n",
              "      fill: #FFFFFF;\n",
              "    }\n",
              "  </style>\n",
              "\n",
              "      <script>\n",
              "        const buttonEl =\n",
              "          document.querySelector('#df-cc866510-95a2-4237-82b8-5a9f713fed9a button.colab-df-convert');\n",
              "        buttonEl.style.display =\n",
              "          google.colab.kernel.accessAllowed ? 'block' : 'none';\n",
              "\n",
              "        async function convertToInteractive(key) {\n",
              "          const element = document.querySelector('#df-cc866510-95a2-4237-82b8-5a9f713fed9a');\n",
              "          const dataTable =\n",
              "            await google.colab.kernel.invokeFunction('convertToInteractive',\n",
              "                                                     [key], {});\n",
              "          if (!dataTable) return;\n",
              "\n",
              "          const docLinkHtml = 'Like what you see? Visit the ' +\n",
              "            '<a target=\"_blank\" href=https://colab.research.google.com/notebooks/data_table.ipynb>data table notebook</a>'\n",
              "            + ' to learn more about interactive tables.';\n",
              "          element.innerHTML = '';\n",
              "          dataTable['output_type'] = 'display_data';\n",
              "          await google.colab.output.renderOutput(dataTable, element);\n",
              "          const docLink = document.createElement('div');\n",
              "          docLink.innerHTML = docLinkHtml;\n",
              "          element.appendChild(docLink);\n",
              "        }\n",
              "      </script>\n",
              "    </div>\n",
              "  </div>\n",
              "  "
            ]
          },
          "metadata": {},
          "execution_count": 13
        }
      ],
      "source": [
        "# Escreva sua resposta aqui:\n",
        "diamond_df.describe()"
      ]
    },
    {
      "cell_type": "code",
      "execution_count": null,
      "metadata": {
        "id": "V8cD_UlqH2Jq",
        "colab": {
          "base_uri": "https://localhost:8080/",
          "height": 300
        },
        "outputId": "5ba33e94-cbf4-4d72-9497-9dc042a08f2e"
      },
      "outputs": [
        {
          "output_type": "execute_result",
          "data": {
            "text/plain": [
              "         Unnamed: 0         carat         depth         table         price  \\\n",
              "count  53940.000000  53940.000000  53940.000000  53940.000000  53940.000000   \n",
              "mean   26970.500000      0.797940     61.749405     57.457184   3932.799722   \n",
              "std    15571.281097      0.474011      1.432621      2.234491   3989.439738   \n",
              "min        1.000000      0.200000     43.000000     43.000000    326.000000   \n",
              "25%    13485.750000      0.400000     61.000000     56.000000    950.000000   \n",
              "50%    26970.500000      0.700000     61.800000     57.000000   2401.000000   \n",
              "75%    40455.250000      1.040000     62.500000     59.000000   5324.250000   \n",
              "max    53940.000000      5.010000     79.000000     95.000000  18823.000000   \n",
              "\n",
              "                  x             y             z  \n",
              "count  53940.000000  53940.000000  53940.000000  \n",
              "mean       5.731157      5.734526      3.538734  \n",
              "std        1.121761      1.142135      0.705699  \n",
              "min        0.000000      0.000000      0.000000  \n",
              "25%        4.710000      4.720000      2.910000  \n",
              "50%        5.700000      5.710000      3.530000  \n",
              "75%        6.540000      6.540000      4.040000  \n",
              "max       10.740000     58.900000     31.800000  "
            ],
            "text/html": [
              "\n",
              "  <div id=\"df-95ba71ab-256c-4faa-9864-c0a99f3c8560\">\n",
              "    <div class=\"colab-df-container\">\n",
              "      <div>\n",
              "<style scoped>\n",
              "    .dataframe tbody tr th:only-of-type {\n",
              "        vertical-align: middle;\n",
              "    }\n",
              "\n",
              "    .dataframe tbody tr th {\n",
              "        vertical-align: top;\n",
              "    }\n",
              "\n",
              "    .dataframe thead th {\n",
              "        text-align: right;\n",
              "    }\n",
              "</style>\n",
              "<table border=\"1\" class=\"dataframe\">\n",
              "  <thead>\n",
              "    <tr style=\"text-align: right;\">\n",
              "      <th></th>\n",
              "      <th>Unnamed: 0</th>\n",
              "      <th>carat</th>\n",
              "      <th>depth</th>\n",
              "      <th>table</th>\n",
              "      <th>price</th>\n",
              "      <th>x</th>\n",
              "      <th>y</th>\n",
              "      <th>z</th>\n",
              "    </tr>\n",
              "  </thead>\n",
              "  <tbody>\n",
              "    <tr>\n",
              "      <th>count</th>\n",
              "      <td>53940.000000</td>\n",
              "      <td>53940.000000</td>\n",
              "      <td>53940.000000</td>\n",
              "      <td>53940.000000</td>\n",
              "      <td>53940.000000</td>\n",
              "      <td>53940.000000</td>\n",
              "      <td>53940.000000</td>\n",
              "      <td>53940.000000</td>\n",
              "    </tr>\n",
              "    <tr>\n",
              "      <th>mean</th>\n",
              "      <td>26970.500000</td>\n",
              "      <td>0.797940</td>\n",
              "      <td>61.749405</td>\n",
              "      <td>57.457184</td>\n",
              "      <td>3932.799722</td>\n",
              "      <td>5.731157</td>\n",
              "      <td>5.734526</td>\n",
              "      <td>3.538734</td>\n",
              "    </tr>\n",
              "    <tr>\n",
              "      <th>std</th>\n",
              "      <td>15571.281097</td>\n",
              "      <td>0.474011</td>\n",
              "      <td>1.432621</td>\n",
              "      <td>2.234491</td>\n",
              "      <td>3989.439738</td>\n",
              "      <td>1.121761</td>\n",
              "      <td>1.142135</td>\n",
              "      <td>0.705699</td>\n",
              "    </tr>\n",
              "    <tr>\n",
              "      <th>min</th>\n",
              "      <td>1.000000</td>\n",
              "      <td>0.200000</td>\n",
              "      <td>43.000000</td>\n",
              "      <td>43.000000</td>\n",
              "      <td>326.000000</td>\n",
              "      <td>0.000000</td>\n",
              "      <td>0.000000</td>\n",
              "      <td>0.000000</td>\n",
              "    </tr>\n",
              "    <tr>\n",
              "      <th>25%</th>\n",
              "      <td>13485.750000</td>\n",
              "      <td>0.400000</td>\n",
              "      <td>61.000000</td>\n",
              "      <td>56.000000</td>\n",
              "      <td>950.000000</td>\n",
              "      <td>4.710000</td>\n",
              "      <td>4.720000</td>\n",
              "      <td>2.910000</td>\n",
              "    </tr>\n",
              "    <tr>\n",
              "      <th>50%</th>\n",
              "      <td>26970.500000</td>\n",
              "      <td>0.700000</td>\n",
              "      <td>61.800000</td>\n",
              "      <td>57.000000</td>\n",
              "      <td>2401.000000</td>\n",
              "      <td>5.700000</td>\n",
              "      <td>5.710000</td>\n",
              "      <td>3.530000</td>\n",
              "    </tr>\n",
              "    <tr>\n",
              "      <th>75%</th>\n",
              "      <td>40455.250000</td>\n",
              "      <td>1.040000</td>\n",
              "      <td>62.500000</td>\n",
              "      <td>59.000000</td>\n",
              "      <td>5324.250000</td>\n",
              "      <td>6.540000</td>\n",
              "      <td>6.540000</td>\n",
              "      <td>4.040000</td>\n",
              "    </tr>\n",
              "    <tr>\n",
              "      <th>max</th>\n",
              "      <td>53940.000000</td>\n",
              "      <td>5.010000</td>\n",
              "      <td>79.000000</td>\n",
              "      <td>95.000000</td>\n",
              "      <td>18823.000000</td>\n",
              "      <td>10.740000</td>\n",
              "      <td>58.900000</td>\n",
              "      <td>31.800000</td>\n",
              "    </tr>\n",
              "  </tbody>\n",
              "</table>\n",
              "</div>\n",
              "      <button class=\"colab-df-convert\" onclick=\"convertToInteractive('df-95ba71ab-256c-4faa-9864-c0a99f3c8560')\"\n",
              "              title=\"Convert this dataframe to an interactive table.\"\n",
              "              style=\"display:none;\">\n",
              "        \n",
              "  <svg xmlns=\"http://www.w3.org/2000/svg\" height=\"24px\"viewBox=\"0 0 24 24\"\n",
              "       width=\"24px\">\n",
              "    <path d=\"M0 0h24v24H0V0z\" fill=\"none\"/>\n",
              "    <path d=\"M18.56 5.44l.94 2.06.94-2.06 2.06-.94-2.06-.94-.94-2.06-.94 2.06-2.06.94zm-11 1L8.5 8.5l.94-2.06 2.06-.94-2.06-.94L8.5 2.5l-.94 2.06-2.06.94zm10 10l.94 2.06.94-2.06 2.06-.94-2.06-.94-.94-2.06-.94 2.06-2.06.94z\"/><path d=\"M17.41 7.96l-1.37-1.37c-.4-.4-.92-.59-1.43-.59-.52 0-1.04.2-1.43.59L10.3 9.45l-7.72 7.72c-.78.78-.78 2.05 0 2.83L4 21.41c.39.39.9.59 1.41.59.51 0 1.02-.2 1.41-.59l7.78-7.78 2.81-2.81c.8-.78.8-2.07 0-2.86zM5.41 20L4 18.59l7.72-7.72 1.47 1.35L5.41 20z\"/>\n",
              "  </svg>\n",
              "      </button>\n",
              "      \n",
              "  <style>\n",
              "    .colab-df-container {\n",
              "      display:flex;\n",
              "      flex-wrap:wrap;\n",
              "      gap: 12px;\n",
              "    }\n",
              "\n",
              "    .colab-df-convert {\n",
              "      background-color: #E8F0FE;\n",
              "      border: none;\n",
              "      border-radius: 50%;\n",
              "      cursor: pointer;\n",
              "      display: none;\n",
              "      fill: #1967D2;\n",
              "      height: 32px;\n",
              "      padding: 0 0 0 0;\n",
              "      width: 32px;\n",
              "    }\n",
              "\n",
              "    .colab-df-convert:hover {\n",
              "      background-color: #E2EBFA;\n",
              "      box-shadow: 0px 1px 2px rgba(60, 64, 67, 0.3), 0px 1px 3px 1px rgba(60, 64, 67, 0.15);\n",
              "      fill: #174EA6;\n",
              "    }\n",
              "\n",
              "    [theme=dark] .colab-df-convert {\n",
              "      background-color: #3B4455;\n",
              "      fill: #D2E3FC;\n",
              "    }\n",
              "\n",
              "    [theme=dark] .colab-df-convert:hover {\n",
              "      background-color: #434B5C;\n",
              "      box-shadow: 0px 1px 3px 1px rgba(0, 0, 0, 0.15);\n",
              "      filter: drop-shadow(0px 1px 2px rgba(0, 0, 0, 0.3));\n",
              "      fill: #FFFFFF;\n",
              "    }\n",
              "  </style>\n",
              "\n",
              "      <script>\n",
              "        const buttonEl =\n",
              "          document.querySelector('#df-95ba71ab-256c-4faa-9864-c0a99f3c8560 button.colab-df-convert');\n",
              "        buttonEl.style.display =\n",
              "          google.colab.kernel.accessAllowed ? 'block' : 'none';\n",
              "\n",
              "        async function convertToInteractive(key) {\n",
              "          const element = document.querySelector('#df-95ba71ab-256c-4faa-9864-c0a99f3c8560');\n",
              "          const dataTable =\n",
              "            await google.colab.kernel.invokeFunction('convertToInteractive',\n",
              "                                                     [key], {});\n",
              "          if (!dataTable) return;\n",
              "\n",
              "          const docLinkHtml = 'Like what you see? Visit the ' +\n",
              "            '<a target=\"_blank\" href=https://colab.research.google.com/notebooks/data_table.ipynb>data table notebook</a>'\n",
              "            + ' to learn more about interactive tables.';\n",
              "          element.innerHTML = '';\n",
              "          dataTable['output_type'] = 'display_data';\n",
              "          await google.colab.output.renderOutput(dataTable, element);\n",
              "          const docLink = document.createElement('div');\n",
              "          docLink.innerHTML = docLinkHtml;\n",
              "          element.appendChild(docLink);\n",
              "        }\n",
              "      </script>\n",
              "    </div>\n",
              "  </div>\n",
              "  "
            ]
          },
          "metadata": {},
          "execution_count": 14
        }
      ],
      "source": [
        "diamond_df.describe()"
      ]
    },
    {
      "cell_type": "markdown",
      "metadata": {
        "id": "F8LloRYkbgeV"
      },
      "source": [
        "#### 4.4.5. Box Plot\n",
        "\n",
        "O *box plot* (ou diagrama de caixa) é uma representação gráfica que permite a visualização de uma variável de forma simples, dando uma noção das medidas de tendência central e de dispersão em um só lugar. Ele pode ser utilizado para identificar outliers, avaliar se a distribuição dos dados é simétrica, se os dados estão agrupados, ou até se eles estão enviesados ou não.\n",
        "\n",
        "Abaixo verá os principais valores necessários para construir um gráfico de caixa.\n",
        "\n",
        "<img src=\"https://pro.arcgis.com/en/pro-app/help/analysis/geoprocessing/charts/GUID-0E2C3730-C535-40CD-8152-80D794A996A7-web.png\" alt=\"drawing\" width=\"300\"/>\n",
        "\n",
        "Para construir um box plot em Python, é só usar a função [`boxplot()`](https://matplotlib.org/stable/api/_as_gen/matplotlib.pyplot.boxplot.html) da biblioteca `matplotlib`\n",
        "\n",
        "Rode o código abaixo para ver o boxplot da variável `price`"
      ]
    },
    {
      "cell_type": "code",
      "execution_count": null,
      "metadata": {
        "id": "WhMwPr4qbh92",
        "colab": {
          "base_uri": "https://localhost:8080/",
          "height": 265
        },
        "outputId": "9135ab69-a006-4715-e3fe-a6d760844890"
      },
      "outputs": [
        {
          "output_type": "display_data",
          "data": {
            "text/plain": [
              "<Figure size 432x288 with 1 Axes>"
            ],
            "image/png": "[encoded data removed]"
          },
          "metadata": {
            "needs_background": "light"
          }
        }
      ],
      "source": [
        "_ = plt.boxplot(diamond_df['price'])"
      ]
    },
    {
      "cell_type": "markdown",
      "metadata": {
        "id": "n2X3l59-745X"
      },
      "source": [
        "Podemos ver que temos muitos outliers, que são os preços que fogem da nossa expectativa! No Box-Plot os circulos pretos podem até aparecer uma barra de tão juntos que estão, mas são os diversos outliers!\n",
        "\n",
        "Além disso, conseguimos identificar que a mediana está perto de 2500 graficamente (barra laranja) e que o 3º quartil (topo do quadrado) está em torno de 5000, em linha do que já vimos anteriormente!\n",
        "\n",
        "Com esse box-plot podemos entender que 75% dos diamantes custam até 5000 dólares, aproximadamente, porém há, ainda assim, um grande número de diamantes com preços muito elevados, acima de 12500! Isso nos leva a crer que esses diamantes caríssimos não são uma questão de sorte inexplicada, mas que deve haver algum fator, ou conjunto de fatores, que eleva o preço de um diamante a patamares tão altos dada a frequência desse acontecimento."
      ]
    },
    {
      "cell_type": "markdown",
      "metadata": {
        "id": "_LHT7HwedRB9"
      },
      "source": [
        "<a id=\"submiss\"></a>\n",
        "## Submissão do Exercício"
      ]
    },
    {
      "cell_type": "markdown",
      "metadata": {
        "id": "OaF90rX6sIiX"
      },
      "source": [
        "# Declaração de Inexistência de Plágio:\n",
        "\n",
        "1. Eu sei que plágio é utilizar o trabalho de outra pessoa e apresentar como meu.\n",
        "2. Eu sei que plágio é errado e declaro que este notebook foi feito por mim.\n",
        "3. Tenho consciência de que a utilização do trabalho de terceiros é antiético e está sujeito à medidas administrativas.\n",
        "4. Declaro também que não compartilhei e não compartilharei meu trabalho com o intuito de que seja copiado e submetido por outra pessoa."
      ]
    },
    {
      "cell_type": "code",
      "execution_count": null,
      "metadata": {
        "id": "q1gYsYJldSAO",
        "colab": {
          "base_uri": "https://localhost:8080/"
        },
        "outputId": "5ad52991-a5b4-4c60-e760-ff455a29b2ac"
      },
      "outputs": [
        {
          "output_type": "stream",
          "name": "stdout",
          "text": [
            "Using matplotlib backend: agg\n"
          ]
        },
        {
          "output_type": "stream",
          "name": "stderr",
          "text": [
            "WARNING:googleapiclient.discovery_cache:file_cache is unavailable when using oauth2client >= 4.0.0 or google-auth\n",
            "Traceback (most recent call last):\n",
            "  File \"/usr/local/lib/python3.7/dist-packages/pydrive/files.py\", line 134, in __getitem__\n",
            "    return dict.__getitem__(self, key)\n",
            "KeyError: 'title'\n",
            "\n",
            "During handling of the above exception, another exception occurred:\n",
            "\n",
            "Traceback (most recent call last):\n",
            "  File \"/usr/local/lib/python3.7/dist-packages/googleapiclient/discovery_cache/file_cache.py\", line 33, in <module>\n",
            "    from oauth2client.contrib.locked_file import LockedFile\n",
            "ModuleNotFoundError: No module named 'oauth2client.contrib.locked_file'\n",
            "\n",
            "During handling of the above exception, another exception occurred:\n",
            "\n",
            "Traceback (most recent call last):\n",
            "  File \"/usr/local/lib/python3.7/dist-packages/googleapiclient/discovery_cache/file_cache.py\", line 37, in <module>\n",
            "    from oauth2client.locked_file import LockedFile\n",
            "ModuleNotFoundError: No module named 'oauth2client.locked_file'\n",
            "\n",
            "During handling of the above exception, another exception occurred:\n",
            "\n",
            "Traceback (most recent call last):\n",
            "  File \"/usr/local/lib/python3.7/dist-packages/googleapiclient/discovery_cache/__init__.py\", line 44, in autodetect\n",
            "    from . import file_cache\n",
            "  File \"/usr/local/lib/python3.7/dist-packages/googleapiclient/discovery_cache/file_cache.py\", line 41, in <module>\n",
            "    \"file_cache is unavailable when using oauth2client >= 4.0.0 or google-auth\"\n",
            "ImportError: file_cache is unavailable when using oauth2client >= 4.0.0 or google-auth\n"
          ]
        },
        {
          "output_type": "stream",
          "name": "stdout",
          "text": [
            "Importante: lembre-se de salvar o notebook antes de rodar esta célula!\n",
            "Executando o seu notebook para a submissão. Isso pode demorar alguns instantes...\n",
            ">> Verificando exercicios para correção... \n",
            ">> Submetendo exercício 4.6... \"Score: 1/2\"\n",
            ">> Submetendo exercício 4.7... \"Score: 2/2\"\n",
            ">> Submetendo exercício 4.8... "
          ]
        }
      ],
      "source": [
        "# LEMBRE-SE DE SALVAR O NOTEBOOK ANTES DE EXECUTAR ESSA CELULA\n",
        "token = 'eda5e002-9643-4773-90e8-63ee46a8a754' # seu token aqui\n",
        "\n",
        "# Não altere o código abaixo\n",
        "import requests as req\n",
        "%matplotlib\n",
        "exec(req.get('https://api.vai.academy/submissioncode2').text)\n",
        "%matplotlib inline"
      ]
    }
  ],
  "metadata": {
    "celltoolbar": "Edit Metadata",
    "colab": {
      "collapsed_sections": [
        "9Y5A2QD2bu7v"
      ],
      "provenance": []
    },
    "kernelspec": {
      "display_name": "Python 3 (ipykernel)",
      "language": "python",
      "name": "python3"
    },
    "language_info": {
      "codemirror_mode": {
        "name": "ipython",
        "version": 3
      },
      "file_extension": ".py",
      "mimetype": "text/x-python",
      "name": "python",
      "nbconvert_exporter": "python",
      "pygments_lexer": "ipython3",
      "version": "3.9.7"
    }
  },
  "nbformat": 4,
  "nbformat_minor": 0
}